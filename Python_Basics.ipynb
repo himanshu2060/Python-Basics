{
  "nbformat": 4,
  "nbformat_minor": 0,
  "metadata": {
    "colab": {
      "provenance": []
    },
    "kernelspec": {
      "name": "python3",
      "display_name": "Python 3"
    },
    "language_info": {
      "name": "python"
    }
  },
  "cells": [
    {
      "cell_type": "markdown",
      "source": [
        "#Python Basics\n"
      ],
      "metadata": {
        "id": "rnm5K-MAqSUq"
      }
    },
    {
      "cell_type": "markdown",
      "source": [
        "1. What is Python, and why is it popular?\n",
        "   - Python is a high - level programming language that is easy to understand and write, making it a popular choice among developers and programmers.\n",
        "   Python is so popular due to its readability and simplicity, extensive libraries, strong community support, versatality, etc.\n",
        "2.  What is an interpreter in Python?\n",
        "  -  Interpreter is a program that reads python code and executes it line by line.\n",
        "3. What are pre-defined keywords in Python?\n",
        "  - Keywords are reserved words in Python that have special meanings and cannot be used as identifiers (variable names, function names, etc).\n",
        "  These keywords are - False, await, else, import, pass, None, break, except, in, raise, True, class, finally, is, return, and, continue, for, lambda, try, as, def, from, nonlocal, while, assert, del, global, not, with, async, elif, if, or, yield.\n",
        "4. Can keywords be used as variable names?\n",
        "  - No, keywords cannot be used as variable names in Python.\n",
        "5. What is mutability in Python?\n",
        "  - Mutability in Python refers to whether an object’s state or content can be changed after it is created.\n",
        "  Mutability affects how objects are stored and manipulated in memory, impacting performance, memory usage, and concurrency in Python programs.\n",
        "6. Why are lists mutable, but tuples are immutable?\n",
        "  - Lists are designed to be flexible, general-purpose containers while Tuples are meant to be fixed collections of items — like records or keys.\n",
        "7. What is the difference between “==” and “is” operators in Python?\n",
        "  - The difference between the == and is operators in python are:\n",
        "== (equality operator): It compares the values of two objects. It returns True if the values are equal and False otherwise.\n",
        "is (identity operator): It compares the identity of two objects. It returns True if two variables point to the same object in memory and False otherwise.\n",
        "8. 18 What are logical operators in Python?\n",
        "  - Logical operators are used to combine conditional statements. Python has three logical operators: and, or, not.\n",
        "9. What is type casting in Python?\n",
        "  - Type casting, also referred to as type conversion, is the process of changing one data type to another in Python. Python provides built-in functions for type casting, such as int(), float(), str(), list(), tuple(), dict(), etc.\n",
        "10. What is the difference between implicit and explicit type casting?\n",
        "  - Implicit type casting can be done automatically by python. It happens when no data loss is expected. It usually occurs in mixed-type expressions while Explicit Type Casting can be done manually by the programmer, we have to convert one type to another, there is a risk of data loss or truncation (e.g., float to int).\n",
        "11. What is the purpose of conditional statements in Python?\n",
        "  - Conditionals in Python are used to execute code based on the evaluation of one or more conditions.\n",
        "  Conditionals can be nested to handle multiple conditions and control different branches of execution based on the outcome of logical expressions.\n",
        "12. How does the elif statement work?\n",
        "  - The elif (\"else if\") statement is used to check multiple conditions sequentially after an if statement.\n",
        "  Python checks condition1:\n",
        "  If True, it runs block 1 and skips all others. If False, it checks condition2, and so on.\n",
        "13. What is the difference between for and while loops?\n",
        "  - “for” loops are used for iterating over a sequence of elements, while “while” loops are used for executing code until a specified condition becomes false.\n",
        "14.  Describe a scenario where a while loop is more suitable than a for loop.\n",
        "  - response = \"\"\n",
        "      while response != \"yes\":\n",
        "       response = input(\"Please type 'yes' to continue: \")\n",
        "      print(\"Thank you for typing 'yes'!\")\n",
        "\n",
        "      A for loop would require a fixed number of iterations, which doesn't work in this scenario where the number of attempts is dynamic and depends on the user input. This is a simple, everyday use case where the while loop excels because the loop should keep running until a condition is met, not for a fixed number of times."
      ],
      "metadata": {
        "id": "Gwcs1nqHqWqc"
      }
    },
    {
      "cell_type": "markdown",
      "source": [
        "#Practical Questions\n"
      ],
      "metadata": {
        "id": "lSgK4s1PzJlB"
      }
    },
    {
      "cell_type": "code",
      "source": [
        "#1. Write a Python program to print \"Hello, World!\"\n",
        "\n",
        "print(\"Hello, World!\")"
      ],
      "metadata": {
        "colab": {
          "base_uri": "https://localhost:8080/"
        },
        "id": "YAdQb-lty9eo",
        "outputId": "4244bd43-27df-4fc5-ad3d-21ddf40f7940"
      },
      "execution_count": 1,
      "outputs": [
        {
          "output_type": "stream",
          "name": "stdout",
          "text": [
            "Hello, World!\n"
          ]
        }
      ]
    },
    {
      "cell_type": "code",
      "source": [
        "#2. Write a Python program that displays your name and age.\n",
        "\n",
        "name = \"Himanshu\"\n",
        "age = 23\n",
        "\n",
        "print(\"Name:\", name)\n",
        "print(\"Age:\", age)\n"
      ],
      "metadata": {
        "colab": {
          "base_uri": "https://localhost:8080/"
        },
        "id": "puDiM-o1zeJ8",
        "outputId": "65df1f7e-baa2-4ce0-a4ed-50e2a3f102ae"
      },
      "execution_count": 2,
      "outputs": [
        {
          "output_type": "stream",
          "name": "stdout",
          "text": [
            "Name: Himanshu\n",
            "Age: 23\n"
          ]
        }
      ]
    },
    {
      "cell_type": "code",
      "source": [
        "#3. Write code to print all the pre-defined keywords in Python using the keyword library.\n",
        "\n",
        "help(\"keywords\")"
      ],
      "metadata": {
        "colab": {
          "base_uri": "https://localhost:8080/"
        },
        "id": "flaPmFz1z1Sy",
        "outputId": "2f405e7f-4e4c-435c-b270-e9048f5ef48a"
      },
      "execution_count": 3,
      "outputs": [
        {
          "output_type": "stream",
          "name": "stdout",
          "text": [
            "\n",
            "Here is a list of the Python keywords.  Enter any keyword to get more help.\n",
            "\n",
            "False               class               from                or\n",
            "None                continue            global              pass\n",
            "True                def                 if                  raise\n",
            "and                 del                 import              return\n",
            "as                  elif                in                  try\n",
            "assert              else                is                  while\n",
            "async               except              lambda              with\n",
            "await               finally             nonlocal            yield\n",
            "break               for                 not                 \n",
            "\n"
          ]
        }
      ]
    },
    {
      "cell_type": "code",
      "source": [
        "#4. Write a program that checks if a given word is a Python keyword.\n",
        "\n",
        "import keyword\n",
        "\n",
        "# Input: Word to check\n",
        "word = input(\"Enter a word: \")\n",
        "\n",
        "# Check if the word is a Python keyword\n",
        "if keyword.iskeyword(word):\n",
        "    print(f\"'{word}' is a Python keyword.\")\n",
        "else:\n",
        "    print(f\"'{word}' is NOT a Python keyword.\")"
      ],
      "metadata": {
        "colab": {
          "base_uri": "https://localhost:8080/"
        },
        "id": "IDRxUUO60QBw",
        "outputId": "260b3d69-5070-4ce7-dbc2-fe9be7f5850c"
      },
      "execution_count": 4,
      "outputs": [
        {
          "output_type": "stream",
          "name": "stdout",
          "text": [
            "Enter a word: None\n",
            "'None' is a Python keyword.\n"
          ]
        }
      ]
    },
    {
      "cell_type": "code",
      "source": [
        "#5.  Create a list and tuple in Python, and demonstrate how attempting to change an element works differently for each.\n",
        "\n",
        "#. List -\n",
        "\n",
        "my_list = [1, 2, 3, 4]\n",
        "my_list[2] = 9\n",
        "print(\"Modified List:\", my_list)\n",
        "\n",
        "#. Tuple -\n",
        "\n",
        "my_tuple = (1, 2, 3, 4)\n",
        "try:\n",
        " my_tuple[2] = 9\n",
        "except TypeError as e:\n",
        "    print(f\"Error: {e}\")\n",
        "\n",
        "#The output shows that lists are mutable, allowing changes to their elements. Tuples, however, are immutable, and attempting to modify them results in a TypeError.\n"
      ],
      "metadata": {
        "colab": {
          "base_uri": "https://localhost:8080/"
        },
        "id": "adYW-toP0qtq",
        "outputId": "db158dde-cbef-4c81-9e31-79f4214581a9"
      },
      "execution_count": 13,
      "outputs": [
        {
          "output_type": "stream",
          "name": "stdout",
          "text": [
            "Modified List: [1, 2, 9, 4]\n",
            "Error: 'tuple' object does not support item assignment\n"
          ]
        }
      ]
    },
    {
      "cell_type": "code",
      "source": [
        "#6. Write a function to demonstrate the behavior of mutable and immutable arguments.\n",
        "\n",
        "def demonstrate_mutability(immutable_arg, mutable_arg):\n",
        "    print(\"Before modification:\")\n",
        "    print(\"Immutable argument:\", immutable_arg)\n",
        "    print(\"Mutable argument:\", mutable_arg)\n",
        "\n",
        "    # Modifying immutable argument\n",
        "    immutable_arg = 10\n",
        "    # Modifying mutable argument\n",
        "    mutable_arg.append(9)\n",
        "\n",
        "    print(\"\\nAfter modification:\")\n",
        "    print(\"Immutable argument:\", immutable_arg)  # This won't affect the original\n",
        "    print(\"Mutable argument:\", mutable_arg)     # This will reflect the change\n",
        "\n",
        "immutable_value = 1\n",
        "mutable_list = [1, 2, 3]\n",
        "\n",
        "demonstrate_mutability(immutable_value, mutable_list)\n"
      ],
      "metadata": {
        "colab": {
          "base_uri": "https://localhost:8080/"
        },
        "id": "qLL581i12DbX",
        "outputId": "1774d9fb-daf8-47b1-98de-bd3d777731b2"
      },
      "execution_count": 16,
      "outputs": [
        {
          "output_type": "stream",
          "name": "stdout",
          "text": [
            "Before modification:\n",
            "Immutable argument: 1\n",
            "Mutable argument: [1, 2, 3]\n",
            "\n",
            "After modification:\n",
            "Immutable argument: 10\n",
            "Mutable argument: [1, 2, 3, 9]\n"
          ]
        }
      ]
    },
    {
      "cell_type": "code",
      "source": [
        "#7.  Write a program that performs basic arithmetic operations on two user-input numbers.\n",
        "\n",
        "num1 = float(input(\"Enter the first number: \"))\n",
        "num2 = float(input(\"Enter the second number: \"))\n",
        "\n",
        "addition = num1 + num2\n",
        "subtraction = num1 - num2\n",
        "multiplication = num1 * num2\n",
        "\n",
        "# Check for division by zero\n",
        "if num2 != 0:\n",
        "    division = num1 / num2\n",
        "else:\n",
        "    division = \"Undefined (cannot divide by zero)\"\n",
        "\n",
        "# Display the results\n",
        "print(\"\\nResults:\")\n",
        "print(f\"Addition: {num1} + {num2} = {addition}\")\n",
        "print(f\"Subtraction: {num1} - {num2} = {subtraction}\")\n",
        "print(f\"Multiplication: {num1} * {num2} = {multiplication}\")\n",
        "print(f\"Division: {num1} / {num2} = {division}\")\n"
      ],
      "metadata": {
        "colab": {
          "base_uri": "https://localhost:8080/"
        },
        "id": "Nl8Ho90o24At",
        "outputId": "6c6bc41f-dc87-4409-edb3-e5f088f4f255"
      },
      "execution_count": 17,
      "outputs": [
        {
          "output_type": "stream",
          "name": "stdout",
          "text": [
            "Enter the first number: 2\n",
            "Enter the second number: 4\n",
            "\n",
            "Results:\n",
            "Addition: 2.0 + 4.0 = 6.0\n",
            "Subtraction: 2.0 - 4.0 = -2.0\n",
            "Multiplication: 2.0 * 4.0 = 8.0\n",
            "Division: 2.0 / 4.0 = 0.5\n"
          ]
        }
      ]
    },
    {
      "cell_type": "code",
      "source": [
        "#8. Write a program to demonstrate the use of logical operators.\n",
        "\n",
        "\n",
        "age = int(input(\"Enter your age: \"))\n",
        "has_license = input(\"Do you have a driving license? (yes/no): \").lower() == \"yes\"\n",
        "\n",
        "if age >= 18 and has_license:\n",
        "    print(\"You are eligible to drive.\")\n",
        "elif age < 18 and not has_license:\n",
        "    print(\"You are not eligible to drive. You need to be at least 18 and have a driving license.\")\n",
        "elif age >= 18 and not has_license:\n",
        "    print(\"You are old enough to drive, but you need a driving license.\")\n",
        "else:\n",
        "    print(\"You are underage and don't have a driving license.\")\n",
        "\n"
      ],
      "metadata": {
        "colab": {
          "base_uri": "https://localhost:8080/"
        },
        "id": "8ysV0FAn3i-r",
        "outputId": "637ff805-cf4b-4eca-d763-e50ab55c2976"
      },
      "execution_count": 18,
      "outputs": [
        {
          "output_type": "stream",
          "name": "stdout",
          "text": [
            "Enter your age: 20\n",
            "Do you have a driving license? (yes/no): yes\n",
            "You are eligible to drive.\n"
          ]
        }
      ]
    },
    {
      "cell_type": "code",
      "source": [
        "#9. Write a Python program to convert user input from string to integer, float, and boolean types.\n",
        "user_input = input(\"Enter a value: \")\n",
        "\n",
        "# Convert the input to different data types\n",
        "integer_value = int(user_input) if user_input.isdigit() else \"Invalid input for integer conversion\"\n",
        "float_value = float(user_input) if user_input.replace('.', '', 1).isdigit() else \"Invalid input for float conversion\"\n",
        "boolean_value = user_input.lower() == 'true'  # Converts 'true' to True, anything else to False\n",
        "\n",
        "print(f\"Original input: {user_input}\")\n",
        "print(f\"Converted to Integer: {integer_value}\")\n",
        "print(f\"Converted to Float: {float_value}\")\n",
        "print(f\"Converted to Boolean: {boolean_value}\")\n"
      ],
      "metadata": {
        "colab": {
          "base_uri": "https://localhost:8080/"
        },
        "id": "0FzzaTWd4EA-",
        "outputId": "2b8fb1c1-e77f-4851-8796-23b35c23518c"
      },
      "execution_count": 19,
      "outputs": [
        {
          "output_type": "stream",
          "name": "stdout",
          "text": [
            "Enter a value: 1234\n",
            "Original input: 1234\n",
            "Converted to Integer: 1234\n",
            "Converted to Float: 1234.0\n",
            "Converted to Boolean: False\n"
          ]
        }
      ]
    },
    {
      "cell_type": "code",
      "source": [
        "#10. Write code to demonstrate type casting with list elements.\n",
        "\n",
        "my_list = ['1', '2.5', 'True']\n",
        "\n",
        "# Type casting\n",
        "int_list = [int(x) if x.isdigit() else x for x in my_list]\n",
        "float_list = [float(x) if '.' in x else x for x in my_list]\n",
        "bool_list = [True if x.lower() == 'true' else False if x.lower() == 'false' else x for x in my_list]\n",
        "\n",
        "print(\"Original List:\", my_list)\n",
        "print(\"List with Integer Casting:\", int_list)\n",
        "print(\"List with Float Casting:\", float_list)\n",
        "print(\"List with Boolean Casting:\", bool_list)\n"
      ],
      "metadata": {
        "colab": {
          "base_uri": "https://localhost:8080/"
        },
        "id": "tloSdTe74dCw",
        "outputId": "28f6982e-be5e-48b2-c3c9-ebb62a048f04"
      },
      "execution_count": 20,
      "outputs": [
        {
          "output_type": "stream",
          "name": "stdout",
          "text": [
            "Original List: ['1', '2.5', 'True']\n",
            "List with Integer Casting: [1, '2.5', 'True']\n",
            "List with Float Casting: ['1', 2.5, 'True']\n",
            "List with Boolean Casting: ['1', '2.5', True]\n"
          ]
        }
      ]
    },
    {
      "cell_type": "code",
      "source": [
        "#11.  Write a program that checks if a number is positive, negative, or zero.\n",
        "\n",
        "num = float(input(\"Enter a number: \"))\n",
        "\n",
        "# to Check if the number is positive, negative, or zero\n",
        "if num > 0:\n",
        "    print(\"The number is positive.\")\n",
        "elif num < 0:\n",
        "    print(\"The number is negative.\")\n",
        "else:\n",
        "    print(\"The number is zero.\")\n"
      ],
      "metadata": {
        "colab": {
          "base_uri": "https://localhost:8080/"
        },
        "id": "KaR1sXbX5AyH",
        "outputId": "757aa5b1-e96e-430e-c98c-e6c42ece546d"
      },
      "execution_count": 21,
      "outputs": [
        {
          "output_type": "stream",
          "name": "stdout",
          "text": [
            "Enter a number: 23\n",
            "The number is positive.\n"
          ]
        }
      ]
    },
    {
      "cell_type": "code",
      "source": [
        "#12.  Write a for loop to print numbers from 1 to 10.\n",
        "\n",
        "for i in range(1, 11):\n",
        "    print(i)\n"
      ],
      "metadata": {
        "colab": {
          "base_uri": "https://localhost:8080/"
        },
        "id": "GJ7aijpH5KmA",
        "outputId": "3fa1d1d8-996d-4dab-dea4-98716b37c77a"
      },
      "execution_count": 22,
      "outputs": [
        {
          "output_type": "stream",
          "name": "stdout",
          "text": [
            "1\n",
            "2\n",
            "3\n",
            "4\n",
            "5\n",
            "6\n",
            "7\n",
            "8\n",
            "9\n",
            "10\n"
          ]
        }
      ]
    },
    {
      "cell_type": "code",
      "source": [
        "#13. Write a Python program to find the sum of all even numbers between 1 and 50.\n",
        "\n",
        "sum_even = 0\n",
        "\n",
        "for i in range(1, 51):\n",
        "    if i % 2 == 0:  #to Check if the number is even\n",
        "        sum_even += i  #to Add even number to the sum\n",
        "\n",
        "print(\"Sum of all even numbers between 1 and 50:\", sum_even)\n"
      ],
      "metadata": {
        "colab": {
          "base_uri": "https://localhost:8080/"
        },
        "id": "Ezcq7Dx05lxJ",
        "outputId": "fd660d65-8afe-4c56-baf5-54e10932b56c"
      },
      "execution_count": 24,
      "outputs": [
        {
          "output_type": "stream",
          "name": "stdout",
          "text": [
            "Sum of all even numbers between 1 and 50: 650\n"
          ]
        }
      ]
    },
    {
      "cell_type": "code",
      "source": [
        "#14. Write a program to reverse a string using a while loop.\n",
        "\n",
        "input_string = input(\"Enter a string: \")\n",
        "\n",
        "reversed_string = \"\"\n",
        "\n",
        "index = len(input_string) - 1\n",
        "\n",
        "while index >= 0:\n",
        "    reversed_string += input_string[index]\n",
        "    index -= 1\n",
        "\n",
        "print(\"Reversed string:\", reversed_string)\n"
      ],
      "metadata": {
        "colab": {
          "base_uri": "https://localhost:8080/"
        },
        "id": "BWgAOc2Q55k8",
        "outputId": "a16269ba-0c13-434d-9218-bcc0d45535f8"
      },
      "execution_count": 25,
      "outputs": [
        {
          "output_type": "stream",
          "name": "stdout",
          "text": [
            "Enter a string: srr\n",
            "Reversed string: rrs\n"
          ]
        }
      ]
    },
    {
      "cell_type": "code",
      "source": [
        "#15. Write a Python program to calculate the factorial of a number provided by the user using a while loop.\n",
        "\n",
        "num = int(input(\"Enter a number to calculate its factorial: \"))\n",
        "\n",
        "# Initializing the factorial to 1 (since factorial of 0 and 1 is 1)\n",
        "factorial = 1\n",
        "\n",
        "# Using a while loop to calculate the factorial\n",
        "while num > 1:\n",
        "    factorial *= num  # Multiply current factorial by the number\n",
        "    num -= 1  # Decrease the number by 1\n",
        "\n",
        "print(f\"The factorial is: {factorial}\")\n"
      ],
      "metadata": {
        "colab": {
          "base_uri": "https://localhost:8080/"
        },
        "id": "NKwqX_yd6NKX",
        "outputId": "8172d5fb-a803-4277-d1fd-a468c2a38022"
      },
      "execution_count": 27,
      "outputs": [
        {
          "output_type": "stream",
          "name": "stdout",
          "text": [
            "Enter a number to calculate its factorial: 5\n",
            "The factorial is: 120\n"
          ]
        }
      ]
    }
  ]
}